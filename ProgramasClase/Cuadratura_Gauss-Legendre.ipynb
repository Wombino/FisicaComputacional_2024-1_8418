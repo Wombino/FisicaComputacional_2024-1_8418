{
 "cells": [
  {
   "cell_type": "code",
   "execution_count": 2,
   "id": "a5324d18",
   "metadata": {},
   "outputs": [],
   "source": [
    "import numpy as np\n",
    "import scipy as sp\n",
    "import matplotlib.pyplot as plt"
   ]
  },
  {
   "cell_type": "code",
   "execution_count": 9,
   "id": "cfb89412",
   "metadata": {},
   "outputs": [],
   "source": [
    "sp.integrate.trapezoid?\n",
    "sp.integrate.simpson?"
   ]
  },
  {
   "cell_type": "code",
   "execution_count": null,
   "id": "709f7e4b",
   "metadata": {},
   "outputs": [],
   "source": []
  },
  {
   "cell_type": "code",
   "execution_count": 11,
   "id": "766cf087",
   "metadata": {},
   "outputs": [],
   "source": [
    "N = 3\n",
    "x,w = sp.special.roots_legendre(N)"
   ]
  },
  {
   "cell_type": "code",
   "execution_count": 12,
   "id": "3e9f0a57",
   "metadata": {},
   "outputs": [],
   "source": [
    "def gauss_xw_ab(N,a,b):\n",
    "    x,w = sp.special.roots_legendre(N)\n",
    "    return 0.5*(b-a)*x+0.5*(b+a),0.5*(b-a)*w"
   ]
  },
  {
   "cell_type": "code",
   "execution_count": null,
   "id": "4c6280c7",
   "metadata": {},
   "outputs": [],
   "source": []
  },
  {
   "cell_type": "code",
   "execution_count": 13,
   "id": "ea9f4ee3",
   "metadata": {},
   "outputs": [],
   "source": [
    "def f(x):\n",
    "    return x**2 + 4*x + 2\n",
    "\n",
    "def f2(x):\n",
    "    return (np.e**x)*(np.cos(x))\n",
    "\n",
    "def f3(x):\n",
    "    return np.sin(1/x)"
   ]
  },
  {
   "cell_type": "code",
   "execution_count": null,
   "id": "1e9f1f6c",
   "metadata": {},
   "outputs": [],
   "source": []
  },
  {
   "cell_type": "code",
   "execution_count": 21,
   "id": "133351fa",
   "metadata": {},
   "outputs": [],
   "source": [
    "N = 30\n",
    "a = 0\n",
    "b = 1\n",
    "\n",
    "x, w = gauss_xw_ab(N,a,b)"
   ]
  },
  {
   "cell_type": "code",
   "execution_count": 22,
   "id": "ead6409e",
   "metadata": {},
   "outputs": [
    {
     "data": {
      "text/plain": [
       "array([0.0039841 , 0.00923323, 0.01439235, 0.0193996 , 0.02420134,\n",
       "       0.02874658, 0.03298711, 0.03687799, 0.04037795, 0.04344989,\n",
       "       0.04606126, 0.04818437, 0.04979671, 0.05088119, 0.05142633,\n",
       "       0.05142633, 0.05088119, 0.04979671, 0.04818437, 0.04606126,\n",
       "       0.04344989, 0.04037795, 0.03687799, 0.03298711, 0.02874658,\n",
       "       0.02420134, 0.0193996 , 0.01439235, 0.00923323, 0.0039841 ])"
      ]
     },
     "execution_count": 22,
     "metadata": {},
     "output_type": "execute_result"
    }
   ],
   "source": [
    "w"
   ]
  },
  {
   "cell_type": "code",
   "execution_count": 23,
   "id": "1a4d07b5",
   "metadata": {},
   "outputs": [
    {
     "data": {
      "text/plain": [
       "array([0.00155326, 0.00816594, 0.01998907, 0.03689998, 0.05871973,\n",
       "       0.08521712, 0.11611128, 0.15107475, 0.18973691, 0.23168793,\n",
       "       0.27648312, 0.32364764, 0.37268154, 0.42306504, 0.47426408,\n",
       "       0.52573592, 0.57693496, 0.62731846, 0.67635236, 0.72351688,\n",
       "       0.76831207, 0.81026309, 0.84892525, 0.88388872, 0.91478288,\n",
       "       0.94128027, 0.96310002, 0.98001093, 0.99183406, 0.99844674])"
      ]
     },
     "execution_count": 23,
     "metadata": {},
     "output_type": "execute_result"
    }
   ],
   "source": [
    "x"
   ]
  },
  {
   "cell_type": "code",
   "execution_count": 24,
   "id": "de90b180",
   "metadata": {},
   "outputs": [],
   "source": [
    "def CuadGauss(N,f,a,b):\n",
    "    S = 0\n",
    "    \n",
    "    w,x = gauss_xw_ab(N,a,b)\n",
    "    \n",
    "    for i in range(N):\n",
    "        S = S + w[i]*f(x[i])\n",
    "        \n",
    "    return S"
   ]
  },
  {
   "cell_type": "code",
   "execution_count": 25,
   "id": "61cd91c4",
   "metadata": {},
   "outputs": [
    {
     "data": {
      "text/plain": [
       "24.355225657394794"
      ]
     },
     "execution_count": 25,
     "metadata": {},
     "output_type": "execute_result"
    }
   ],
   "source": [
    "N = 30\n",
    "a = 0\n",
    "b = 1\n",
    "\n",
    "CuadGauss(N,f,w,x)"
   ]
  },
  {
   "cell_type": "code",
   "execution_count": null,
   "id": "428e1f6a",
   "metadata": {},
   "outputs": [],
   "source": []
  },
  {
   "cell_type": "code",
   "execution_count": null,
   "id": "813ed95e",
   "metadata": {},
   "outputs": [],
   "source": []
  },
  {
   "cell_type": "code",
   "execution_count": 28,
   "id": "e0086327",
   "metadata": {},
   "outputs": [
    {
     "data": {
      "text/plain": [
       "<BarContainer object of 30 artists>"
      ]
     },
     "execution_count": 28,
     "metadata": {},
     "output_type": "execute_result"
    },
    {
     "data": {
      "image/png": "[encoded data removed]",
      "text/plain": [
       "<Figure size 640x480 with 1 Axes>"
      ]
     },
     "metadata": {},
     "output_type": "display_data"
    }
   ],
   "source": [
    "N = 30\n",
    "a = 0\n",
    "b = 1\n",
    "\n",
    "xp, wp = gauss_xw_ab(N,a,b)\n",
    "\n",
    "# plt.plot(xp,wp,'b.')\n",
    "plt.bar(xp,wp, color ='red', width = 0.01)"
   ]
  },
  {
   "cell_type": "code",
   "execution_count": 29,
   "id": "7cfccffe",
   "metadata": {},
   "outputs": [
    {
     "data": {
      "text/plain": [
       "<BarContainer object of 500 artists>"
      ]
     },
     "execution_count": 29,
     "metadata": {},
     "output_type": "execute_result"
    },
    {
     "data": {
      "image/png": "[encoded data removed]",
      "text/plain": [
       "<Figure size 640x480 with 1 Axes>"
      ]
     },
     "metadata": {},
     "output_type": "display_data"
    }
   ],
   "source": [
    "N = 500\n",
    "a = -1.0\n",
    "b = 1.0\n",
    "xp, wp = gauss_xw_ab(N,a,b)\n",
    "\n",
    "# plt.plot(xp,wp,'b.')\n",
    "plt.bar(xp,wp, color ='red', width = 0.01)"
   ]
  },
  {
   "cell_type": "code",
   "execution_count": null,
   "id": "c309b2d9",
   "metadata": {},
   "outputs": [],
   "source": [
    "# plt.plot(xp,wp,'b.')\n",
    "plt.bar(xp,wp, color ='red', width = 0.01)"
   ]
  },
  {
   "cell_type": "code",
   "execution_count": 80,
   "id": "f2c13e3d",
   "metadata": {},
   "outputs": [
    {
     "data": {
      "text/plain": [
       "1.933421496200713"
      ]
     },
     "execution_count": 80,
     "metadata": {},
     "output_type": "execute_result"
    }
   ],
   "source": [
    "s"
   ]
  }
 ],
 "metadata": {
  "kernelspec": {
   "display_name": "Python 3 (ipykernel)",
   "language": "python",
   "name": "python3"
  },
  "language_info": {
   "codemirror_mode": {
    "name": "ipython",
    "version": 3
   },
   "file_extension": ".py",
   "mimetype": "text/x-python",
   "name": "python",
   "nbconvert_exporter": "python",
   "pygments_lexer": "ipython3",
   "version": "3.10.12"
  }
 },
 "nbformat": 4,
 "nbformat_minor": 5
}
