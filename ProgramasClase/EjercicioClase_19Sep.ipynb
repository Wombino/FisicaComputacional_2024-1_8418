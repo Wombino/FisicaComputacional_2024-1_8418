{
 "cells": [
  {
   "cell_type": "code",
   "execution_count": 1,
   "id": "a5324d18",
   "metadata": {},
   "outputs": [],
   "source": [
    "import numpy as np\n",
    "import scipy as sp\n",
    "import matplotlib.pyplot as plt"
   ]
  },
  {
   "cell_type": "code",
   "execution_count": 25,
   "id": "d61e765a",
   "metadata": {},
   "outputs": [],
   "source": [
    "def F(x,y):\n",
    "    return np.log(x+2*y)"
   ]
  },
  {
   "cell_type": "code",
   "execution_count": 34,
   "id": "bb21b418",
   "metadata": {},
   "outputs": [],
   "source": [
    "def gauss2D_xw_ab(N,a,b,c,d):\n",
    "    \n",
    "    x,w = sp.special.roots_legendre(N)\n",
    "    \n",
    "    X = 0.5*(b-a)*x+0.5*(b+a),0.5*(b-a)*w\n",
    "    Y = 0.5*(d-c)*x+0.5*(d+c),0.5*(d-c)*w\n",
    "    \n",
    "    return Y,X"
   ]
  },
  {
   "cell_type": "code",
   "execution_count": 48,
   "id": "919442bf",
   "metadata": {},
   "outputs": [],
   "source": [
    "def CuadGauss2D(N,f,a,b,c,d):\n",
    "    \n",
    "    S = 0.0\n",
    "    Sx = 0.0\n",
    "    Sy = 0.0\n",
    "    \n",
    "    Y,X = gauss2D_xw_ab(N,a,b,c,d)\n",
    "    \n",
    "    yj = Y[0]\n",
    "    xi = X[0]\n",
    "    \n",
    "    wj = Y[1]\n",
    "    wi = X[1]\n",
    "    \n",
    "\n",
    "    for i in range(N):\n",
    "        for j in range(N):\n",
    "            S = S + wi[i]*wj[j]*f(xi[i],yj[j]) \n",
    "        \n",
    "    return S"
   ]
  },
  {
   "cell_type": "code",
   "execution_count": 54,
   "id": "94b211e9",
   "metadata": {},
   "outputs": [
    {
     "data": {
      "text/plain": [
       "0.429554527548276"
      ]
     },
     "execution_count": 54,
     "metadata": {},
     "output_type": "execute_result"
    }
   ],
   "source": [
    "N = 20\n",
    "c,d = 1.4,2.0\n",
    "a,b = 1.0,1.5\n",
    "\n",
    "# Y,X = gauss2D_xw_ab(N,a,b,c,d)\n",
    "CuadGauss2D(N,F,a,b,c,d)"
   ]
  },
  {
   "cell_type": "code",
   "execution_count": 51,
   "id": "25a21409",
   "metadata": {},
   "outputs": [
    {
     "data": {
      "text/plain": [
       "(array([1.10566243, 1.39433757]), array([0.25, 0.25]))"
      ]
     },
     "execution_count": 51,
     "metadata": {},
     "output_type": "execute_result"
    }
   ],
   "source": [
    "X"
   ]
  },
  {
   "cell_type": "code",
   "execution_count": 52,
   "id": "cb5d49a0",
   "metadata": {},
   "outputs": [
    {
     "data": {
      "text/plain": [
       "(array([1.52679492, 1.87320508]), array([0.3, 0.3]))"
      ]
     },
     "execution_count": 52,
     "metadata": {},
     "output_type": "execute_result"
    }
   ],
   "source": [
    "Y"
   ]
  },
  {
   "cell_type": "code",
   "execution_count": null,
   "id": "63f5cb5d",
   "metadata": {},
   "outputs": [],
   "source": []
  },
  {
   "cell_type": "code",
   "execution_count": null,
   "id": "3149e959",
   "metadata": {},
   "outputs": [],
   "source": []
  }
 ],
 "metadata": {
  "kernelspec": {
   "display_name": "Python 3 (ipykernel)",
   "language": "python",
   "name": "python3"
  },
  "language_info": {
   "codemirror_mode": {
    "name": "ipython",
    "version": 3
   },
   "file_extension": ".py",
   "mimetype": "text/x-python",
   "name": "python",
   "nbconvert_exporter": "python",
   "pygments_lexer": "ipython3",
   "version": "3.10.12"
  }
 },
 "nbformat": 4,
 "nbformat_minor": 5
}
